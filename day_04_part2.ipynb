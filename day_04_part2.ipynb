{
 "cells": [
  {
   "cell_type": "code",
   "execution_count": null,
   "metadata": {},
   "outputs": [],
   "source": []
  },
  {
   "cell_type": "code",
   "execution_count": null,
   "metadata": {},
   "outputs": [],
   "source": []
  },
  {
   "cell_type": "markdown",
   "metadata": {},
   "source": [
    "# Lists"
   ]
  },
  {
   "cell_type": "markdown",
   "metadata": {},
   "source": [
    "### Perfect Squares"
   ]
  },
  {
   "cell_type": "code",
   "execution_count": null,
   "metadata": {},
   "outputs": [],
   "source": [
    "Shreyas is appearing for InfyTQ examination and is stuck at a problem to\n",
    "print all numbers in a range which are perfect squares and the sum of the\n",
    "digits of the number is less than10. You as his friend and a good \n",
    "programmer agrees to help him find the answer.\n",
    "\n",
    "Input Format\n",
    "\n",
    "Enter lower range and upper range limit values.\n",
    "\n",
    "Constraints\n",
    "\n",
    "0<=lower<=100\n",
    "\n",
    "0<=upper<=10^5\n",
    "\n",
    "Output Format\n",
    "\n",
    "Print the list created.\n",
    "\n",
    "Sample Input 0\n",
    "\n",
    "Enter lower range: 1\n",
    "\n",
    "Enter upper range:40\n",
    "Sample Output 0\n",
    "\n",
    "[1, 4, 9, 16, 25, 36]"
   ]
  },
  {
   "cell_type": "code",
   "execution_count": 16,
   "metadata": {},
   "outputs": [
    {
     "name": "stdout",
     "output_type": "stream",
     "text": [
      "Enter lb:1\n",
      "Enter ub:100\n",
      "[1, 4, 9, 16, 25, 36, 81, 100]\n"
     ]
    }
   ],
   "source": [
    "import math\n",
    "lb=int(input(\"Enter lb:\"))\n",
    "ub=int(input(\"Enter ub:\"))\n",
    "lst=[x for x in range(lb,ub+1) if (int(math.sqrt(x))**2 == x) and sum(list(map(int,str(x))))<10]\n",
    "print(lst)"
   ]
  },
  {
   "cell_type": "code",
   "execution_count": 19,
   "metadata": {},
   "outputs": [
    {
     "data": {
      "text/plain": [
       "2.0"
      ]
     },
     "execution_count": 19,
     "metadata": {},
     "output_type": "execute_result"
    }
   ],
   "source": [
    "import math\n",
    "math.sqrt(4)\n",
    "     "
   ]
  },
  {
   "cell_type": "code",
   "execution_count": 17,
   "metadata": {},
   "outputs": [
    {
     "name": "stdout",
     "output_type": "stream",
     "text": [
      "10\n"
     ]
    }
   ],
   "source": [
    "n=64\n",
    "res=sum(list(map(int,str(n))))\n",
    "print(res)"
   ]
  },
  {
   "cell_type": "markdown",
   "metadata": {},
   "source": [
    "### Count the elements"
   ]
  },
  {
   "cell_type": "code",
   "execution_count": null,
   "metadata": {},
   "outputs": [],
   "source": [
    "Rahul is good in python programming, and he wanted to check his friend’s\n",
    "programming knowledge. For that he has given some task to his friend to \n",
    "write a program, To Print the count of number of the elements in the list\n",
    "which are within the given range.\n",
    "\n",
    "Input Format:\n",
    "\n",
    "Read a value for total number of elements in the list.\n",
    "\n",
    "Next lines, read the elements of the list.\n",
    "\n",
    "Input the start and end range.\n",
    "\n",
    "Constraints:\n",
    "\n",
    "0\n",
    "\n",
    "Output Format:\n",
    "\n",
    "Print the count of the elements in the list which are within the given\n",
    "start and end range\n",
    "\n",
    "Sample Input:\n",
    "\n",
    "enter list: 10 20 30 15 10 20 10 20\n",
    "10\n",
    "20\n",
    "Sample Output:\n",
    "\n",
    "7\n",
    "Explanation:\n",
    "\n",
    "10,20,10,20,10,20,15 are within the given range 10 and 20"
   ]
  },
  {
   "cell_type": "code",
   "execution_count": 26,
   "metadata": {},
   "outputs": [
    {
     "name": "stdout",
     "output_type": "stream",
     "text": [
      "enter list:10 20 30 15 10 20 10 20\n",
      "10\n",
      "20\n",
      "7\n"
     ]
    }
   ],
   "source": [
    "lst=list(map(int,input(\"enter list:\").split(' ')))\n",
    "lb=int(input())\n",
    "ub=int(input())\n",
    "res =[x for x in lst if x>=lb and x<=ub]\n",
    "print(len(res))"
   ]
  },
  {
   "cell_type": "markdown",
   "metadata": {},
   "source": [
    "### Remove Element 1"
   ]
  },
  {
   "cell_type": "code",
   "execution_count": null,
   "metadata": {},
   "outputs": [],
   "source": [
    "Sanjay is a studious person and he always keeps on working to improve his\n",
    "skills now he is given a complete list. And his task is to print the list \n",
    "after removing the element at the given index.\n",
    "\n",
    "Input Format:\n",
    "\n",
    "Input a list\n",
    "\n",
    "Read an index\n",
    "\n",
    "Constraints:\n",
    "\n",
    "0<=index\n",
    "\n",
    "Output Format:\n",
    "\n",
    "Print the list after removing the element at the given index\n",
    "\n",
    "Sample Input:\n",
    "\n",
    "enter list: 5 4 3 2 1\n",
    "2\n",
    "Sample Output 0\n",
    "\n",
    "5 4 2 1\n",
    "Explanation:\n",
    "\n",
    "Element at index 2 is 3. Hence the result list is 5 4 2 1"
   ]
  },
  {
   "cell_type": "code",
   "execution_count": 29,
   "metadata": {},
   "outputs": [
    {
     "name": "stdout",
     "output_type": "stream",
     "text": [
      "enter list:10 20 30 40 50\n",
      "2\n",
      "[10, 20, 40, 50]\n"
     ]
    }
   ],
   "source": [
    "lst=list(map(int,input(\"enter list:\").split(' ')))\n",
    "ind=int(input())\n",
    "res=[lst[i] for i in range(len(lst))if i!= ind]\n",
    "print(res)\n",
    "\n"
   ]
  },
  {
   "cell_type": "code",
   "execution_count": 27,
   "metadata": {},
   "outputs": [
    {
     "name": "stdout",
     "output_type": "stream",
     "text": [
      "0\n",
      "1\n",
      "2\n",
      "3\n"
     ]
    }
   ],
   "source": [
    "lst=[10,20,30,40]\n",
    "for i in range(len(lst)):\n",
    "    print(i)"
   ]
  },
  {
   "cell_type": "code",
   "execution_count": null,
   "metadata": {},
   "outputs": [],
   "source": []
  },
  {
   "cell_type": "markdown",
   "metadata": {},
   "source": [
    "### Print Sublists"
   ]
  },
  {
   "cell_type": "code",
   "execution_count": null,
   "metadata": {},
   "outputs": [],
   "source": [
    "Mike given challenge to Smith to Print all the sublists from the given\n",
    "list including empty list.\n",
    "\n",
    "Input Format:\n",
    "Input a list\n",
    "\n",
    "Constraints:\n",
    "1\n",
    "\n",
    "Output Format:\n",
    "Print all the sublists from the given list.\n",
    "\n",
    "Sample Input:\n",
    "\n",
    "10 20\n",
    "Sample Output:\n",
    "\n",
    "[[], ['10'], ['10', '20'], ['20']]\n",
    "     [0:1]   [0:2]        [2:2]"
   ]
  },
  {
   "cell_type": "code",
   "execution_count": 34,
   "metadata": {},
   "outputs": [
    {
     "name": "stdout",
     "output_type": "stream",
     "text": [
      "10 20 30\n",
      "[[], ['10'], ['10', '20'], ['10', '20', '30'], ['20'], ['20', '30'], ['30']]\n"
     ]
    }
   ],
   "source": [
    "lst=input().split()\n",
    "x=[[]]\n",
    "for i in range(len(lst)):  #0 to 1\n",
    "    for j in range(i+1,len(lst)+1):\n",
    "        res=lst[i:j] #lst[o:1] lst[0:2]\n",
    "        x.append(res)\n",
    "        \n",
    "print(x)"
   ]
  },
  {
   "cell_type": "markdown",
   "metadata": {},
   "source": [
    "### print unique element"
   ]
  },
  {
   "cell_type": "code",
   "execution_count": null,
   "metadata": {},
   "outputs": [],
   "source": [
    "Karthik is given a task where he is given a list and he is supposed to\n",
    "write a program to print the unique elements in a given list \n",
    "(removing the duplicates from the list).\n",
    "\n",
    "Input Format:\n",
    "\n",
    "Read a list\n",
    "\n",
    "Constraints\n",
    "\n",
    "1\n",
    "\n",
    "Output Format\n",
    "\n",
    "Print the list after removing the duplicate elements.\n",
    "\n",
    "Sample Input 0\n",
    "\n",
    "1 2 1 2 3 4 5\n",
    "Sample Output 0\n",
    "\n",
    "values are:\n",
    "1\n",
    "2\n",
    "3\n",
    "4\n",
    "5\n",
    "Explanation 0\n",
    "\n",
    "1 and 2 are duplicate elements."
   ]
  },
  {
   "cell_type": "code",
   "execution_count": null,
   "metadata": {},
   "outputs": [],
   "source": []
  },
  {
   "cell_type": "markdown",
   "metadata": {},
   "source": [
    "### List "
   ]
  },
  {
   "cell_type": "code",
   "execution_count": null,
   "metadata": {},
   "outputs": [],
   "source": [
    "A list of numbers will be given, the numbers 5 and 8 are present in the \n",
    "          (8 always comes after 5) problem.\n",
    "Num1 : Add all numbers which do not lie between 5 and 8(excluding 5 and 8)\n",
    "Num2 : Numbers formed by concatenating all numbers from 5 and 8(including 5 8)\n",
    "\n",
    "Input : 3,2,6,5,1,4,8,9\n",
    "Output : 5168\n",
    "Num1 : 3+2+6+9=20\n",
    "Num2 : ‘5’+’1’+’4’+’8’=5148\n",
    "condition2 : 5148+20=5168"
   ]
  },
  {
   "cell_type": "code",
   "execution_count": null,
   "metadata": {},
   "outputs": [],
   "source": []
  },
  {
   "cell_type": "markdown",
   "metadata": {},
   "source": [
    "### Concatenating Consecutive Elements in Tuple."
   ]
  },
  {
   "cell_type": "code",
   "execution_count": null,
   "metadata": {},
   "outputs": [],
   "source": [
    "Aryan taught Soumya tuple concept in the python programming. \n",
    "Now he wants to check whether she understood the tuple concept clearly \n",
    "or not. For that he has given a task to Soumya To take a tuple, t and \n",
    "print the resultant tuple after concatenating consecutive elements in \n",
    "Tuple.\n",
    "\n",
    "Input Format\n",
    "\n",
    "Read a tuple.\n",
    "\n",
    "Constraints\n",
    "\n",
    "1<=n<=10^3\n",
    "\n",
    "Output Format:\n",
    "Print the tuple after concatenating consecutive elements in tuple.\n",
    "\n",
    "Sample Input:\n",
    "hi,abc,hello,xyz\n",
    "\n",
    "Sample Output:\n",
    "('hiabc', 'abchello', 'helloxyz')\n",
    "\n",
    "Explanation:\n",
    "Print tuple on concatenating the consecutive elements."
   ]
  },
  {
   "cell_type": "code",
   "execution_count": 39,
   "metadata": {},
   "outputs": [
    {
     "name": "stdout",
     "output_type": "stream",
     "text": [
      "hi ,hello,abc\n",
      "('hi hello', 'helloabc')\n"
     ]
    }
   ],
   "source": [
    "t=tuple(input().split(','))\n",
    "lst=list(t)\n",
    "res=[]\n",
    "for i in range(len(lst)-1):\n",
    "    res.append(lst[i]+lst[i+1])\n",
    "print(tuple(res))\n"
   ]
  },
  {
   "cell_type": "code",
   "execution_count": null,
   "metadata": {},
   "outputs": [],
   "source": []
  },
  {
   "cell_type": "markdown",
   "metadata": {},
   "source": [
    "### Kth Column Product"
   ]
  },
  {
   "cell_type": "code",
   "execution_count": null,
   "metadata": {},
   "outputs": [],
   "source": [
    "Mani wants to take a part in coding competition, for that she is practicing coding questions.\n",
    "But she got stuck in one question, so she wants your help to write a program, \n",
    "To find out the Kth column product of the given tuple in the list.\n",
    "\n",
    "Input Format\n",
    "\n",
    "Input the size of the list.\n",
    "\n",
    "Read a list with tuples.\n",
    "\n",
    "Input an integer for k.\n",
    "\n",
    "Constraints\n",
    "\n",
    "1<=size<=10^3\n",
    "\n",
    "Output Format\n",
    "\n",
    "Print the product of the Kth column in the given tuple list.\n",
    "\n",
    "Sample Input:\n",
    "\n",
    "3\n",
    "1,2,3,4\n",
    "2,4\n",
    "1,3,5\n",
    "2\n",
    "Sample Output:\n",
    "\n",
    "15\n",
    "Explanation :\n",
    "\n",
    "Product of 2nd index tuple, 1*3*5=15"
   ]
  },
  {
   "cell_type": "code",
   "execution_count": 40,
   "metadata": {},
   "outputs": [
    {
     "name": "stdout",
     "output_type": "stream",
     "text": [
      "3\n",
      "1,2,3,4\n",
      "2,4\n",
      "1,3,5\n",
      "2\n",
      "[('1', '2', '3', '4'), ('2', '4'), ('1', '3', '5')]\n",
      "('1', '3', '5')\n"
     ]
    }
   ],
   "source": [
    "n=int(input())\n",
    "lst=[]\n",
    "for i in range(n):\n",
    "    t=tuple(input().split(','))\n",
    "    lst.append(t)\n",
    "k=int(input())\n",
    "print(lst)\n",
    "res=[int(i)for i in lst[k]]\n",
    "\n"
   ]
  },
  {
   "cell_type": "code",
   "execution_count": null,
   "metadata": {},
   "outputs": [],
   "source": []
  },
  {
   "cell_type": "code",
   "execution_count": null,
   "metadata": {},
   "outputs": [],
   "source": []
  },
  {
   "cell_type": "code",
   "execution_count": null,
   "metadata": {},
   "outputs": [],
   "source": []
  },
  {
   "cell_type": "code",
   "execution_count": null,
   "metadata": {},
   "outputs": [],
   "source": []
  },
  {
   "cell_type": "code",
   "execution_count": null,
   "metadata": {},
   "outputs": [],
   "source": [
    "https://tinyurl.com/GVP-TFB-2021"
   ]
  }
 ],
 "metadata": {
  "kernelspec": {
   "display_name": "Python 3",
   "language": "python",
   "name": "python3"
  },
  "language_info": {
   "codemirror_mode": {
    "name": "ipython",
    "version": 3
   },
   "file_extension": ".py",
   "mimetype": "text/x-python",
   "name": "python",
   "nbconvert_exporter": "python",
   "pygments_lexer": "ipython3",
   "version": "3.7.3"
  }
 },
 "nbformat": 4,
 "nbformat_minor": 2
}
